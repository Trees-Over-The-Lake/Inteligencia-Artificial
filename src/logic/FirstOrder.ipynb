{
 "cells": [
  {
   "cell_type": "markdown",
   "metadata": {},
   "source": [
    "# Lógica de 1ª Ordem\n",
    "\n",
    "Operações mais importantes:\n",
    "* ```Atom(x[,y,...,z])```\n",
    "* ```Not(x)```\n",
    "* ```And(x, y), AndList(x1,x2,...,xn)```\n",
    "* ```Or(x, y)```, ```OrList(x1,x2,...,xn)```\n",
    "* ```Xor(x,y)```\n",
    "* ```Implies(x, y)```\n",
    "* ```Equiv(x, y)```\n",
    "* ```Exists(var, body)```\n",
    "* ```Forall(var, body)```\n",
    "\n",
    "Fluxo de utilização:\n",
    "```python\n",
    "kb = createResolutionKB()\n",
    "kb.tell(<formula>) # add information to KB\n",
    "kb.ask(<formula>)  # submit queries to KB\n",
    "kb.dump()          # list derivations\n",
    "```\n"
   ]
  },
  {
   "cell_type": "code",
   "execution_count": 1,
   "metadata": {},
   "outputs": [],
   "source": [
    "from logic import *"
   ]
  },
  {
   "cell_type": "code",
   "execution_count": 2,
   "metadata": {},
   "outputs": [
    {
     "name": "stdout",
     "output_type": "stream",
     "text": [
      "Pessoa(virginia)\n",
      "Origem(virginia,brasil)\n"
     ]
    }
   ],
   "source": [
    "#Predicado unário\n",
    "unario = Atom('Pessoa', 'virginia')\n",
    "print(unario)\n",
    "\n",
    "#Predicado binário\n",
    "binario = Atom('Origem', 'virginia', 'brasil')\n",
    "print(binario)"
   ]
  },
  {
   "cell_type": "markdown",
   "metadata": {},
   "source": [
    "∀x Estudante(x) →  Pessoa(x)"
   ]
  },
  {
   "cell_type": "code",
   "execution_count": 3,
   "metadata": {},
   "outputs": [
    {
     "name": "stdout",
     "output_type": "stream",
     "text": [
      "==== Knowledge base [1 derivations] ===\n",
      "('*', Or(Not(Estudante($x3)),Pessoa($x3)))\n"
     ]
    }
   ],
   "source": [
    "kb = createResolutionKB()\n",
    "kb.tell(Forall('$x', Implies(Atom('Estudante', '$x'), \n",
    "                             Atom('Pessoa', '$x'))) )\n",
    "kb.dump()"
   ]
  },
  {
   "cell_type": "code",
   "execution_count": 4,
   "metadata": {},
   "outputs": [
    {
     "name": "stdout",
     "output_type": "stream",
     "text": [
      "==== Knowledge base [3 derivations] ===\n",
      "('*', Or(Not(Estudante($x3)),Pessoa($x3)))\n",
      "('*', Estudante(henrique))\n",
      "('-', Pessoa(henrique))\n"
     ]
    }
   ],
   "source": [
    "kb.tell(Atom('Estudante', 'henrique'))\n",
    "kb.dump()"
   ]
  },
  {
   "cell_type": "markdown",
   "metadata": {},
   "source": [
    "### Exercícios"
   ]
  },
  {
   "cell_type": "markdown",
   "metadata": {},
   "source": [
    "### Escreva as seguintes proposições\n"
   ]
  },
  {
   "cell_type": "markdown",
   "metadata": {},
   "source": [
    "Proposição:\n",
    "* Todo mundo no Brasil conhece Casimiro. <BR>\n",
    "∀x (Pessoa(x) ∧ Origem(x, Brasil)) → Conhece(x, Casimiro)\n",
    "    \n",
    "Em seguida:\n",
    "- cadastre pessoas brasileiras e observe as derivações."
   ]
  },
  {
   "cell_type": "code",
   "execution_count": 5,
   "metadata": {},
   "outputs": [
    {
     "data": {
      "text/plain": [
       "I learned something."
      ]
     },
     "execution_count": 5,
     "metadata": {},
     "output_type": "execute_result"
    }
   ],
   "source": [
    "#### TODO\n",
    "kb = createResolutionKB()\n",
    "and_ = And(Atom('Pessoa', '$x'), Atom('Origem', '$x', 'brasil')) \n",
    "forall = Forall('$x', Implies(and_, Atom('Conhece', '$x', 'casimiro') ))\n",
    "kb.tell(forall)"
   ]
  },
  {
   "cell_type": "code",
   "execution_count": 6,
   "metadata": {},
   "outputs": [
    {
     "name": "stdout",
     "output_type": "stream",
     "text": [
      "I don't know.\n",
      "Yes.\n"
     ]
    }
   ],
   "source": [
    "kb.tell(Atom('Pessoa','joao'))\n",
    "print(kb.ask(Atom('Conhece', 'joao', 'casimiro')))\n",
    "      \n",
    "kb.tell(Atom('Origem','joao', 'brasil'))\n",
    "print(kb.ask(Atom('Conhece', 'joao', 'casimiro')))"
   ]
  },
  {
   "cell_type": "markdown",
   "metadata": {},
   "source": [
    "Proposição: \n",
    "* Existe um curso que todos os estudantes fazem <br>\n",
    "∃y Curso(y) ∧ ∀x Estudante(x) → Cursou(x, y)\n",
    "\n",
    "Em seguida: \n",
    "- cadastre um estudante e observe as derivações."
   ]
  },
  {
   "cell_type": "code",
   "execution_count": 16,
   "metadata": {},
   "outputs": [
    {
     "ename": "Exception",
     "evalue": "Forall: wanted <class 'logic.Formula'>, but got $y",
     "output_type": "error",
     "traceback": [
      "\u001b[0;31m---------------------------------------------------------------------------\u001b[0m",
      "\u001b[0;31mException\u001b[0m                                 Traceback (most recent call last)",
      "Input \u001b[0;32mIn [16]\u001b[0m, in \u001b[0;36m<module>\u001b[0;34m\u001b[0m\n\u001b[1;32m      2\u001b[0m kb \u001b[38;5;241m=\u001b[39m createResolutionKB()\n\u001b[1;32m      4\u001b[0m estudante, curso \u001b[38;5;241m=\u001b[39m Atom(\u001b[38;5;124m'\u001b[39m\u001b[38;5;124mEstudante\u001b[39m\u001b[38;5;124m'\u001b[39m, \u001b[38;5;124m'\u001b[39m\u001b[38;5;124m$x\u001b[39m\u001b[38;5;124m'\u001b[39m), Atom(\u001b[38;5;124m'\u001b[39m\u001b[38;5;124mCurso\u001b[39m\u001b[38;5;124m'\u001b[39m, \u001b[38;5;124m'\u001b[39m\u001b[38;5;124m$y\u001b[39m\u001b[38;5;124m'\u001b[39m)\n\u001b[0;32m----> 5\u001b[0m tmp1 \u001b[38;5;241m=\u001b[39m Exists(\u001b[38;5;124m'\u001b[39m\u001b[38;5;124m$y\u001b[39m\u001b[38;5;124m'\u001b[39m, \u001b[43mForall\u001b[49m\u001b[43m(\u001b[49m\u001b[38;5;124;43m'\u001b[39;49m\u001b[38;5;124;43m$x\u001b[39;49m\u001b[38;5;124;43m'\u001b[39;49m\u001b[43m,\u001b[49m\u001b[43m \u001b[49m\u001b[38;5;124;43m'\u001b[39;49m\u001b[38;5;124;43m$y\u001b[39;49m\u001b[38;5;124;43m'\u001b[39;49m\u001b[43m)\u001b[49m) \n\u001b[1;32m      6\u001b[0m kb\u001b[38;5;241m.\u001b[39mtell(Implies(tmp1, Atom(\u001b[38;5;124m'\u001b[39m\u001b[38;5;124mCursou\u001b[39m\u001b[38;5;124m'\u001b[39m, \u001b[38;5;124m'\u001b[39m\u001b[38;5;124m$x\u001b[39m\u001b[38;5;124m'\u001b[39m, \u001b[38;5;124m'\u001b[39m\u001b[38;5;124m$y\u001b[39m\u001b[38;5;124m'\u001b[39m)))\n\u001b[1;32m      8\u001b[0m kb\u001b[38;5;241m.\u001b[39mtell(\u001b[38;5;124m'\u001b[39m\u001b[38;5;124mEstudante\u001b[39m\u001b[38;5;124m'\u001b[39m)\n",
      "File \u001b[0;32m~/HDSeguro/code/Facul/Inteligencia-Artificial/src/logic/logic.py:126\u001b[0m, in \u001b[0;36mForall.__init__\u001b[0;34m(self, var, body)\u001b[0m\n\u001b[1;32m    124\u001b[0m \u001b[38;5;28;01mdef\u001b[39;00m \u001b[38;5;21m__init__\u001b[39m(\u001b[38;5;28mself\u001b[39m, var, body):\n\u001b[1;32m    125\u001b[0m     \u001b[38;5;28mself\u001b[39m\u001b[38;5;241m.\u001b[39mvar \u001b[38;5;241m=\u001b[39m \u001b[38;5;28mself\u001b[39m\u001b[38;5;241m.\u001b[39mensureType(toExpr(var), Variable)\n\u001b[0;32m--> 126\u001b[0m     \u001b[38;5;28mself\u001b[39m\u001b[38;5;241m.\u001b[39mbody \u001b[38;5;241m=\u001b[39m \u001b[38;5;28;43mself\u001b[39;49m\u001b[38;5;241;43m.\u001b[39;49m\u001b[43mensureFormula\u001b[49m\u001b[43m(\u001b[49m\u001b[43mbody\u001b[49m\u001b[43m)\u001b[49m\n\u001b[1;32m    127\u001b[0m     \u001b[38;5;28mself\u001b[39m\u001b[38;5;241m.\u001b[39mstrRepn \u001b[38;5;241m=\u001b[39m \u001b[38;5;28;01mNone\u001b[39;00m\n",
      "File \u001b[0;32m~/HDSeguro/code/Facul/Inteligencia-Artificial/src/logic/logic.py:24\u001b[0m, in \u001b[0;36mExpression.ensureFormula\u001b[0;34m(self, arg)\u001b[0m\n\u001b[0;32m---> 24\u001b[0m \u001b[38;5;28;01mdef\u001b[39;00m \u001b[38;5;21mensureFormula\u001b[39m(\u001b[38;5;28mself\u001b[39m, arg): \u001b[38;5;28;01mreturn\u001b[39;00m \u001b[38;5;28;43mself\u001b[39;49m\u001b[38;5;241;43m.\u001b[39;49m\u001b[43mensureType\u001b[49m\u001b[43m(\u001b[49m\u001b[43marg\u001b[49m\u001b[43m,\u001b[49m\u001b[43m \u001b[49m\u001b[43mFormula\u001b[49m\u001b[43m)\u001b[49m\n",
      "File \u001b[0;32m~/HDSeguro/code/Facul/Inteligencia-Artificial/src/logic/logic.py:22\u001b[0m, in \u001b[0;36mExpression.ensureType\u001b[0;34m(self, arg, wantedType)\u001b[0m\n\u001b[1;32m     20\u001b[0m \u001b[38;5;28;01mdef\u001b[39;00m \u001b[38;5;21mensureType\u001b[39m(\u001b[38;5;28mself\u001b[39m, arg, wantedType):\n\u001b[1;32m     21\u001b[0m     \u001b[38;5;28;01mif\u001b[39;00m \u001b[38;5;129;01mnot\u001b[39;00m \u001b[38;5;28misinstance\u001b[39m(arg, wantedType):\n\u001b[0;32m---> 22\u001b[0m         \u001b[38;5;28;01mraise\u001b[39;00m \u001b[38;5;167;01mException\u001b[39;00m(\u001b[38;5;124m'\u001b[39m\u001b[38;5;132;01m%s\u001b[39;00m\u001b[38;5;124m: wanted \u001b[39m\u001b[38;5;132;01m%s\u001b[39;00m\u001b[38;5;124m, but got \u001b[39m\u001b[38;5;132;01m%s\u001b[39;00m\u001b[38;5;124m'\u001b[39m \u001b[38;5;241m%\u001b[39m (\u001b[38;5;28mself\u001b[39m\u001b[38;5;241m.\u001b[39m\u001b[38;5;18m__class__\u001b[39m\u001b[38;5;241m.\u001b[39m\u001b[38;5;18m__name__\u001b[39m, wantedType, arg))\n\u001b[1;32m     23\u001b[0m     \u001b[38;5;28;01mreturn\u001b[39;00m arg\n",
      "\u001b[0;31mException\u001b[0m: Forall: wanted <class 'logic.Formula'>, but got $y"
     ]
    }
   ],
   "source": [
    "#### TODO\n",
    "kb = createResolutionKB()\n",
    "\n",
    "estudante, curso = Atom('Estudante', '$x'), Atom('Curso', '$y')\n",
    "tmp1 = And('Estudante', 'Curso')\n",
    "tmp2 = Exists('$y', Forall('$x', '$y')) \n",
    "kb.tell(Implies(tmp1, Atom('Cursou', '$x', '$y')))\n",
    "\n",
    "kb.tell('Estudante')\n",
    "kb.dump()"
   ]
  },
  {
   "cell_type": "markdown",
   "metadata": {},
   "source": [
    "Proposição:\n",
    "* Maria conhece todas as pessoas.\n",
    "\n",
    "Em seguida:\n",
    "- cadastre pessoas e observe as derivações."
   ]
  },
  {
   "cell_type": "code",
   "execution_count": 9,
   "metadata": {},
   "outputs": [],
   "source": [
    "#### TODO"
   ]
  },
  {
   "cell_type": "markdown",
   "metadata": {},
   "source": [
    "Proposição:\n",
    "* Quaisquer duas pessoas de mesma nacionalidade falam a mesma língua\n",
    "\n",
    "Em seguida:\n",
    "- Cadastre uma pessoa, sua nacionalidade brasileira, e indique que seu idioma\n",
    "- Cadastre uma segunda pessoa e a sua nacionalidade igual à da primeira\n",
    "- Pergunte se a segunda pessoa fala o mesmo idioma da primeira"
   ]
  },
  {
   "cell_type": "code",
   "execution_count": 14,
   "metadata": {},
   "outputs": [],
   "source": [
    "#### TODO"
   ]
  }
 ],
 "metadata": {
  "kernelspec": {
   "display_name": "Python 3 (ipykernel)",
   "language": "python",
   "name": "python3"
  },
  "language_info": {
   "codemirror_mode": {
    "name": "ipython",
    "version": 3
   },
   "file_extension": ".py",
   "mimetype": "text/x-python",
   "name": "python",
   "nbconvert_exporter": "python",
   "pygments_lexer": "ipython3",
   "version": "3.10.2"
  }
 },
 "nbformat": 4,
 "nbformat_minor": 4
}
